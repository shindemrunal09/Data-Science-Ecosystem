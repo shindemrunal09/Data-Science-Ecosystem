{
 "cells": [
  {
   "cell_type": "code",
   "execution_count": null,
   "id": "233cc9b7-3297-4e93-93a8-4a681c0a0108",
   "metadata": {},
   "outputs": [],
   "source": [
    "# Data Science Tools and Ecosystem"
   ]
  },
  {
   "cell_type": "markdown",
   "id": "5556939f-3a89-407b-b24c-28d234627364",
   "metadata": {},
   "source": [
    "In this notebook, Data Science Tools and Ecosystem are summarized."
   ]
  },
  {
   "cell_type": "markdown",
   "id": "1a3bb6b8-5bcc-430a-9916-07572e6397eb",
   "metadata": {},
   "source": [
    "Some of the popular languages that Data Scientists use are:\n",
    "1. Python\n",
    "2. R\n",
    "3. SQL\n",
    "4. Julia\n",
    "5. Scala"
   ]
  },
  {
   "cell_type": "markdown",
   "id": "696c641d-5ae7-4b0e-aa14-efd46d3f817b",
   "metadata": {},
   "source": [
    "Some of the commonly used libraries used by Data Scientists include:\n",
    "1. Pandas\n",
    "2. NumPy\n",
    "3. Scikit-learn\n",
    "4. TensorFlow\n",
    "5. Matplotlib"
   ]
  },
  {
   "cell_type": "markdown",
   "id": "f820468d-1135-4d6d-9101-6caf65d4db4e",
   "metadata": {},
   "source": [
    "| Data Science Tools |\n",
    "|--------------------|\n",
    "| Jupyter Notebook   |\n",
    "| RStudio            |\n",
    "| Apache Hadoop      |"
   ]
  },
  {
   "cell_type": "code",
   "execution_count": 2,
   "id": "1a8d8f3a-204f-4e3f-87d2-094b0b88e846",
   "metadata": {},
   "outputs": [],
   "source": [
    "### Below are a few examples of evaluating arithmetic expressions in Python."
   ]
  },
  {
   "cell_type": "code",
   "execution_count": 3,
   "id": "536cd97e-da07-4cef-aa23-55ec2b46d2bb",
   "metadata": {},
   "outputs": [
    {
     "data": {
      "text/plain": [
       "20"
      ]
     },
     "execution_count": 3,
     "metadata": {},
     "output_type": "execute_result"
    }
   ],
   "source": [
    "# This is a simple arithmetic expression to multiply then add integers\n",
    "result = (3 * 5) + 5\n",
    "result  # Expected output: 20"
   ]
  },
  {
   "cell_type": "code",
   "execution_count": 4,
   "id": "8b543201-8b4d-48ca-a062-85dc68db4fb6",
   "metadata": {},
   "outputs": [
    {
     "data": {
      "text/plain": [
       "3.3333333333333335"
      ]
     },
     "execution_count": 4,
     "metadata": {},
     "output_type": "execute_result"
    }
   ],
   "source": [
    "# This will convert 200 minutes to hours by dividing by 60\n",
    "minutes = 200\n",
    "hours = minutes / 60\n",
    "hours  # Expected output: 3.3333333333333335"
   ]
  },
  {
   "cell_type": "markdown",
   "id": "1e58db54-29ad-451a-919f-70059ea56795",
   "metadata": {},
   "source": [
    "**Objectives:**\n",
    "- List popular languages for Data Science\n",
    "- Identify commonly used data science libraries\n",
    "- Explore tools used in Data Science development environments\n",
    "- Perform arithmetic operations using Python\n",
    "- Convert time units (minutes to hours)"
   ]
  },
  {
   "cell_type": "markdown",
   "id": "fc7c3ffe-287c-4e2f-9d63-0132961badd8",
   "metadata": {},
   "source": [
    "## Author\n",
    "Mrunal Shinde"
   ]
  },
  {
   "cell_type": "code",
   "execution_count": null,
   "id": "7361756e-264b-407a-8a9a-0d04ad4c74aa",
   "metadata": {},
   "outputs": [],
   "source": []
  }
 ],
 "metadata": {
  "kernelspec": {
   "display_name": "Python 3 (ipykernel)",
   "language": "python",
   "name": "python3"
  },
  "language_info": {
   "codemirror_mode": {
    "name": "ipython",
    "version": 3
   },
   "file_extension": ".py",
   "mimetype": "text/x-python",
   "name": "python",
   "nbconvert_exporter": "python",
   "pygments_lexer": "ipython3",
   "version": "3.12.2"
  }
 },
 "nbformat": 4,
 "nbformat_minor": 5
}
